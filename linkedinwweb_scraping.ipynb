{
  "nbformat": 4,
  "nbformat_minor": 0,
  "metadata": {
    "colab": {
      "provenance": [],
      "authorship_tag": "ABX9TyMiMOWjNCOdS8nCQLTvfa3A",
      "include_colab_link": true
    },
    "kernelspec": {
      "name": "python3",
      "display_name": "Python 3"
    },
    "language_info": {
      "name": "python"
    }
  },
  "cells": [
    {
      "cell_type": "markdown",
      "metadata": {
        "id": "view-in-github",
        "colab_type": "text"
      },
      "source": [
        "<a href=\"https://colab.research.google.com/github/Rajendarkatravath/linkedin_webscraping/blob/main/linkedinwweb_scraping.ipynb\" target=\"_parent\"><img src=\"https://colab.research.google.com/assets/colab-badge.svg\" alt=\"Open In Colab\"/></a>"
      ]
    },
    {
      "cell_type": "code",
      "execution_count": null,
      "metadata": {
        "id": "1VimM9YLAGsV"
      },
      "outputs": [],
      "source": [
        "!pip install selenium --quiet"
      ]
    },
    {
      "cell_type": "code",
      "source": [
        "from selenium import webdriver\n",
        "from selenium.webdriver.chrome.options import Options\n",
        "from bs4 import BeautifulSoup"
      ],
      "metadata": {
        "id": "X-5tfddxAPpl"
      },
      "execution_count": null,
      "outputs": []
    },
    {
      "cell_type": "code",
      "source": [
        "def web_driver():\n",
        "  options = webdriver.ChromeOptions()\n",
        "  options.add_argument(\"--verbose\")\n",
        "  options.add_argument(\"--headless\")\n",
        "  options.add_argument(\"user-agent=Mozilla/5.0 (Windows NT 10.0; Win64; x64) AppleWebKit/537.36 (KHTML, like Gecko) Chrome/100.0.0.0 Safari/537.36\")\n",
        "  options.add_argument(\"--no-sandbox\")\n",
        "  options.add_argument(\"--disable-gpu\")\n",
        "  options.add_argument(\"--window-size = 1920, 1200\")\n",
        "\n",
        "  driver = webdriver.Chrome(options = options)\n",
        "  return driver"
      ],
      "metadata": {
        "id": "bW5zdxQZAaN9"
      },
      "execution_count": null,
      "outputs": []
    },
    {
      "cell_type": "code",
      "source": [
        "driver = web_driver()"
      ],
      "metadata": {
        "id": "5krf_vMrAfWD"
      },
      "execution_count": null,
      "outputs": []
    },
    {
      "cell_type": "code",
      "source": [
        "url = \"https://www.linkedin.com/jobs/search/?currentJobId=3718419957&keywords=data%20science%20jobs&origin=BLENDED_SEARCH_RESULT_CARD_NAVIGATION\"\n",
        "driver.get(url)\n",
        "driver.implicitly_wait(10)"
      ],
      "metadata": {
        "id": "WYU4rk2jAiUy"
      },
      "execution_count": null,
      "outputs": []
    },
    {
      "cell_type": "code",
      "source": [
        "html_content = driver.page_source\n",
        "\n",
        "soup = BeautifulSoup(html_content, \"html.parser\")\n",
        "\n",
        "\n",
        "team_elements =soup.find_all('div',class_=\"mt5 mb2\")\n",
        "print(team_elements)\n",
        "job_titles = []\n",
        "for job_listing in team_elements:\n",
        "  job_title = job_listing.text.strip()\n",
        "  job_titles.append(job_title)\n",
        "print(job_titles)\n",
        "\n"
      ],
      "metadata": {
        "colab": {
          "base_uri": "https://localhost:8080/"
        },
        "id": "lftZEyfGArtB",
        "outputId": "47c3b0d3-2b5e-4e05-c185-b47a0b4e3151"
      },
      "execution_count": null,
      "outputs": [
        {
          "output_type": "stream",
          "name": "stdout",
          "text": [
            "[]\n",
            "[]\n"
          ]
        }
      ]
    }
  ]
}